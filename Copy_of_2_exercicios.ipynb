{
  "nbformat": 4,
  "nbformat_minor": 0,
  "metadata": {
    "kernelspec": {
      "display_name": "Python 3",
      "language": "python",
      "name": "python3"
    },
    "language_info": {
      "codemirror_mode": {
        "name": "ipython",
        "version": 3
      },
      "file_extension": ".py",
      "mimetype": "text/x-python",
      "name": "python",
      "nbconvert_exporter": "python",
      "pygments_lexer": "ipython3",
      "version": "3.7.4"
    },
    "colab": {
      "name": "Copy of 2-exercicios.ipynb",
      "provenance": [],
      "collapsed_sections": [
        "0i12Vq5rwZac",
        "nDm2WocZwZa2",
        "2b_nCN2swZbE"
      ],
      "include_colab_link": true
    }
  },
  "cells": [
    {
      "cell_type": "markdown",
      "metadata": {
        "id": "view-in-github",
        "colab_type": "text"
      },
      "source": [
        "<a href=\"https://colab.research.google.com/github/HenriqueHanschStepic/ListaExerciciosPython/blob/master/Copy_of_2_exercicios.ipynb\" target=\"_parent\"><img src=\"https://colab.research.google.com/assets/colab-badge.svg\" alt=\"Open In Colab\"/></a>"
      ]
    },
    {
      "cell_type": "markdown",
      "metadata": {
        "id": "DmWDwqVWwZY1",
        "colab_type": "text"
      },
      "source": [
        "# EXERCÍCIOS\n",
        "\n",
        "Resolva os exercícios abaixo implementando funções ou classes em Python. Apresente exemplos de uso dessas funções. Se os exemplos apresentados forem no formato de testes unitários o professor ficará mais feliz.\n",
        "\n",
        "Preferencialmente entregue este arquivo do Jupyter Notebook (Google Colab) resolvido. Caso seja do seu interesse, pode entregar os exercícios como módulos Python junto com os testes unitários.\n",
        "\n",
        "[![Google Colab](https://img.shields.io/badge/launch-Exercícios-yellow.svg)](https://colab.research.google.com/github/catolicasc-joinville/lp1-notebooks/blob/master/1-python/2-exercicios.ipynb) [launch](https://colab.research.google.com/github/catolicasc-joinville/lp1-notebooks/blob/master/1-python/2-exercicios.ipynb)\n",
        "\n",
        "## ESTRUTURAS DE SEQUÊNCIA\n",
        "\n",
        "1) Implemente um método que converta metros para centímetros."
      ]
    },
    {
      "cell_type": "code",
      "metadata": {
        "id": "L_00CkpEwZY3",
        "colab_type": "code",
        "outputId": "fae0f2aa-55b9-49aa-ed96-fb8ca3c641f4",
        "colab": {
          "base_uri": "https://localhost:8080/",
          "height": 50
        }
      },
      "source": [
        "a = int (input(\"Digite o cumprimento em metros:\"))\n",
        "m = (a) * 1000\n",
        "print (\"Em milímetros são:\",m)"
      ],
      "execution_count": 0,
      "outputs": [
        {
          "output_type": "stream",
          "text": [
            "Digite o cumprimento em metros:100\n",
            "Em milímetros são: 100000\n"
          ],
          "name": "stdout"
        }
      ]
    },
    {
      "cell_type": "markdown",
      "metadata": {
        "id": "F-QXd5E7wZY7",
        "colab_type": "text"
      },
      "source": [
        "2) Implemente uma função que recebe o raio de um círculo, calcule e retorna sua área. "
      ]
    },
    {
      "cell_type": "code",
      "metadata": {
        "id": "OcMClTbwwZY8",
        "colab_type": "code",
        "colab": {}
      },
      "source": [
        "def area(raio):\n",
        "  temp = math.pi * raio**2\n",
        "  return temp"
      ],
      "execution_count": 0,
      "outputs": []
    },
    {
      "cell_type": "markdown",
      "metadata": {
        "id": "VmUjs4-QwZY-",
        "colab_type": "text"
      },
      "source": [
        "3) Implemente uma função que peça a temperatura em graus Farenheit, transforme e retorne a temperatura em graus Celsius.\n",
        "\n",
        "$C = (5 * (F-32) / 9)$"
      ]
    },
    {
      "cell_type": "code",
      "metadata": {
        "id": "PPNKNiBmwZY_",
        "colab_type": "code",
        "colab": {}
      },
      "source": [
        "def F_para_C(F):\n",
        "    C = (F-32)*5/9\n",
        "    return C"
      ],
      "execution_count": 0,
      "outputs": []
    },
    {
      "cell_type": "markdown",
      "metadata": {
        "id": "q0hbyfpxwZZB",
        "colab_type": "text"
      },
      "source": [
        "4) Implemente uma função que recebe a temperatura em graus Celsius com argumento, transforme e retorne em graus Farenheit. "
      ]
    },
    {
      "cell_type": "code",
      "metadata": {
        "id": "QQHUoEgcwZZC",
        "colab_type": "code",
        "colab": {}
      },
      "source": [
        "def C_para_F(C):\n",
        "    F = (C*9/5) + 32\n",
        "    return F\n"
      ],
      "execution_count": 0,
      "outputs": []
    },
    {
      "cell_type": "markdown",
      "metadata": {
        "id": "AqkBBeRzwZZE",
        "colab_type": "text"
      },
      "source": [
        "5) Toda vez que um homem traz um peso de peixes maior que o estabelecido pelo regulamento de pesca do estado de São Paulo (50 quilos) deve pagar uma multa de R$ 4,00 por quilo excedente. Escreva uma função que recebe como parâmetro o peso (peso de peixes) e calcule o excesso. Retorne a quantidade de quilos além do limite e o valor da multa que ele deverá pagar."
      ]
    },
    {
      "cell_type": "code",
      "metadata": {
        "id": "JW_7nmkZwZZE",
        "colab_type": "code",
        "outputId": "62216628-c12f-47d4-bf87-b5013c8ca3a7",
        "colab": {
          "base_uri": "https://localhost:8080/",
          "height": 50
        }
      },
      "source": [
        "peso = float(input('Digite o peso da pesca: '))\n",
        "excesso = multa = 0\n",
        "if (peso > 50):\n",
        "    excesso = peso - 50\n",
        "    multa = excesso * 4\n",
        "print('A pesca teve excesso de %d e multa no valor R$ %.2f' % (excesso, multa))"
      ],
      "execution_count": 0,
      "outputs": [
        {
          "output_type": "stream",
          "text": [
            "Digite o peso da pesca: 10\n",
            "A pesca teve excesso de 0 e multa no valor R$ 0.00\n"
          ],
          "name": "stdout"
        }
      ]
    },
    {
      "cell_type": "markdown",
      "metadata": {
        "id": "qHXAes_GwZZG",
        "colab_type": "text"
      },
      "source": [
        "6) Implemente uma função que recebe quanto você ganha por hora e o número de horas trabalhadas no mês. Calcule e mostre (com print) o total do seu salário no referido mês, sabendo-se que são descontados 11% para o Imposto de Renda, 8% para o INSS e 5% para o sindicato, faça um programa que nos dê:\n",
        "\n",
        "```\n",
        "+ Salário Bruto : R$\n",
        "- IR (11%) : R$\n",
        "- INSS (8%) : R$\n",
        "- Sindicato ( 5%) : R$\n",
        "= Salário Liquido : R$\n",
        "```"
      ]
    },
    {
      "cell_type": "code",
      "metadata": {
        "id": "CjPPZyFiwZZH",
        "colab_type": "code",
        "outputId": "1bf0f090-f48c-42a7-ca3a-bf4ef73855a3",
        "colab": {
          "base_uri": "https://localhost:8080/",
          "height": 134
        }
      },
      "source": [
        "qnt_ganha = float(input('Quanto ganha por hora? '))\n",
        "horas_trabalhadas = int(input('Horas trabalhadas por mês: '))\n",
        "\n",
        "salario_bruto = qnt_ganha * horas_trabalhadas\n",
        "ir = salario_bruto * 0.11\n",
        "inss = salario_bruto * 0.08\n",
        "sindicato = salario_bruto * 0.05\n",
        "\n",
        "print ('+ Salário Bruto : R$ %.2f' %salario_bruto)\n",
        "print ('- IR: R$ %.2f' %ir )\n",
        "print ('- INSS: R$ %.2f' %inss )\n",
        "print ('- Sindicato: R$ %.2f' %sindicato )\n",
        "print ('= Salário Liquido : R$ %.2f' %(salario_bruto - ir - inss - sindicato))"
      ],
      "execution_count": 0,
      "outputs": [
        {
          "output_type": "stream",
          "text": [
            "Quanto ganha por hora? 100\n",
            "Horas trabalhadas por mês: 200\n",
            "+ Salário Bruto : R$ 20000.00\n",
            "- IR: R$ 2200.00\n",
            "- INSS: R$ 1600.00\n",
            "- Sindicato: R$ 1000.00\n",
            "= Salário Liquido : R$ 15200.00\n"
          ],
          "name": "stdout"
        }
      ]
    },
    {
      "cell_type": "markdown",
      "metadata": {
        "id": "IjhWmlsdwZZJ",
        "colab_type": "text"
      },
      "source": [
        "---\n",
        "## ESTRUTURAS DE DECISÃO"
      ]
    },
    {
      "cell_type": "markdown",
      "metadata": {
        "id": "3LLGh0wtwZZJ",
        "colab_type": "text"
      },
      "source": [
        "1) Faça uma função que verifique se uma letra passada como parâmetro é \"F\" ou \"M\". Conforme a letra escrever: F - Feminino, M - Masculino, Sexo Inválido."
      ]
    },
    {
      "cell_type": "code",
      "metadata": {
        "id": "I8SCghawwZZK",
        "colab_type": "code",
        "outputId": "7ab10d79-0544-4960-efc4-f6d4f25c0551",
        "colab": {
          "base_uri": "https://localhost:8080/",
          "height": 34
        }
      },
      "source": [
        "sexo = 'F';\n",
        "if sexo == 'M':\n",
        "  print ('Sexo Masculino')\n",
        "elif sexo == 'F':\n",
        "  print ('Sexo Feminino')\n",
        "else:\n",
        "  print ('Sexo Inválido')"
      ],
      "execution_count": 0,
      "outputs": [
        {
          "output_type": "stream",
          "text": [
            "Sexo Feminino\n"
          ],
          "name": "stdout"
        }
      ]
    },
    {
      "cell_type": "markdown",
      "metadata": {
        "id": "hnq5uvgywZZM",
        "colab_type": "text"
      },
      "source": [
        "2) Faça uma função que verifique se uma letra passada como parâmetro é vogal ou consoante. "
      ]
    },
    {
      "cell_type": "code",
      "metadata": {
        "id": "My4WMY_twZZN",
        "colab_type": "code",
        "outputId": "959d4622-d0af-49d0-ae91-0447db2001aa",
        "colab": {
          "base_uri": "https://localhost:8080/",
          "height": 50
        }
      },
      "source": [
        "def vogal(letra):\n",
        "    vogais = \"aeiou\"\n",
        "    if letra.lower() not in vogais: \n",
        "        return False\n",
        "    return True\n",
        "\n",
        "letra = input(\"Digite uma letra: \")\n",
        "print(vogal(letra))"
      ],
      "execution_count": 0,
      "outputs": [
        {
          "output_type": "stream",
          "text": [
            "Digite uma letra: a\n",
            "True\n"
          ],
          "name": "stdout"
        }
      ]
    },
    {
      "cell_type": "markdown",
      "metadata": {
        "id": "Cg2AmuxYwZZP",
        "colab_type": "text"
      },
      "source": [
        "3) Faça uma função para ajudar o professor Fachini a calcular as notas dos seus queridos alunos. A função deve receber como parâmetro as 3 notas de um estudante. A função deve calcular a média alcançada pelo aluno e apresentar:\n",
        "\n",
        "```\n",
        "A mensagem \"Aprovado\", se a média alcançada for maior ou igual a seis;\n",
        "A mensagem \"Reprovado\", se a média for menor do que seis;\n",
        "A mensagem \"Aprovado com Distinção\", se a média for igual a dez.\n",
        "```"
      ]
    },
    {
      "cell_type": "code",
      "metadata": {
        "id": "UEjgHUFRwZZP",
        "colab_type": "code",
        "outputId": "d4da7dca-d3a6-459d-85e3-1ff41cc71c08",
        "colab": {
          "base_uri": "https://localhost:8080/",
          "height": 84
        }
      },
      "source": [
        "n1 = float(input('Digite a primeira nota:'))\n",
        "n2 = float(input('Digite a segunda nota:'))\n",
        "n3 = float(input('Digite a terceira nota:'))\n",
        "media = (n1 + n2 + n3)/3\n",
        "if media > 6:\n",
        "  print ('Aprovado')\n",
        "elif media == 10:\n",
        "  print ('Aprovado com Distinção')\n",
        "else:\n",
        "  print ('Reprovado')"
      ],
      "execution_count": 0,
      "outputs": [
        {
          "output_type": "stream",
          "text": [
            "Digite a primeira nota:10\n",
            "Digite a segunda nota:0\n",
            "Digite a terceira nota:10\n",
            "Aprovado\n"
          ],
          "name": "stdout"
        }
      ]
    },
    {
      "cell_type": "markdown",
      "metadata": {
        "id": "1LBZsTrmwZZR",
        "colab_type": "text"
      },
      "source": [
        "4) Escreva uma função que recebe como parâmetro um dicionário one a chave é o nome de um estudante e o valor uma lista com  as 3 notas dele. Este dicionário pode conter 0, 1 ou mais estudantes. Utilize a função escrita na questão anterior para calcular a média para cada estudante e mostre no seguinte formato:\n",
        "\n",
        "```\n",
        "Estudante 1: Média X\n",
        "Estudante 2: Média X\n",
        "...\n",
        "```"
      ]
    },
    {
      "cell_type": "code",
      "metadata": {
        "id": "nfjmS8RxwZZS",
        "colab_type": "code",
        "colab": {}
      },
      "source": [
        ""
      ],
      "execution_count": 0,
      "outputs": []
    },
    {
      "cell_type": "markdown",
      "metadata": {
        "id": "wjz6nt6LwZZV",
        "colab_type": "text"
      },
      "source": [
        "5) Implemente uma função para o cálculo de uma folha de pagamento, sabendo que os descontos são do Imposto de Renda, que depende do salário bruto (conforme tabela abaixo) e 3% para o Sindicato e que o FGTS corresponde a 11% do Salário Bruto, mas não é descontado (é a empresa que deposita). O Salário Líquido corresponde ao Salário Bruto menos os descontos. A função deverá receber o valor da sua hora e a quantidade de horas trabalhadas no mês.\n",
        "\n",
        "Desconto do IR:\n",
        "* Salário Bruto até 900 (inclusive) - isento\n",
        "* Salário Bruto até 1500 (inclusive) - desconto de 5%\n",
        "* Salário Bruto até 2500 (inclusive) - desconto de 10%\n",
        "* Salário Bruto acima de 2500 - desconto de 20% Imprima na tela as informações, dispostas conforme o exemplo abaixo. No exemplo o valor da hora é 5 e a quantidade de hora é 220.\n",
        "\n",
        "Formato da saída:\n",
        "```\n",
        "Salário Bruto: (5 * 220)        : R$ 1100,00\n",
        "(-) IR (5%)                     : R$   55,00  \n",
        "(-) INSS ( 10%)                 : R$  110,00\n",
        "FGTS (11%)                      : R$  121,00\n",
        "Total de descontos              : R$  165,00\n",
        "Salário Liquido                 : R$  935,00\n",
        "```"
      ]
    },
    {
      "cell_type": "code",
      "metadata": {
        "id": "thBP7ESOwZZV",
        "colab_type": "code",
        "colab": {}
      },
      "source": [
        "valor_hora = float(input(\"Quanto você ganha por hora? \"))\n",
        "horas_mes = int(input(\"Quantas horas você trabalha no mês? \"))\n",
        "salario_bruto = horas_mes * valor_hora\n",
        "\n",
        "ir1500 = salario_bruto * 0.05\n",
        "ir2500 = salario_bruto * 0.10\n",
        "irmaior = salario_bruto * 0.20\n",
        "\n",
        "inss = salario_bruto * 0.10\n",
        "fgts = salario_bruto * 0.11\n",
        "\n",
        "print(\"salario Bruto: \", salario_bruto)\n",
        "\n",
        "if salario_bruto <= 900:\n",
        "    print(\"Seu salario permanecerá o mesmo\")\n",
        "else:\n",
        "    print(\"INSS: \", inss, \"\\nFGTS: \", fgts)\n",
        "\n",
        "if salario_bruto > 900 and salario_bruto <= 1500:\n",
        "    salario_liquido = float(salario_bruto) - float(ir1500) - float(inss)\n",
        "    print(\"IR: \", ir1500, \"\\nSalario Liquido: \", salario_liquido)\n",
        "\n",
        "elif salario_bruto > 1500 and salario_bruto <= 2500:\n",
        "    salario_liquido = float(salario_bruto) - float(ir2500) - float(inss)\n",
        "    print(\"IR: \", ir2500, \"\\nSalario Liquido: \", salario_liquido)\n",
        "\n",
        "else:\n",
        "    salario_liquido = float(salario_bruto) - float(irmaior) - float(inss)\n",
        "    print(\"IR: \", iralto, \"\\nSalario Liquido: \", salario_liquido)"
      ],
      "execution_count": 0,
      "outputs": []
    },
    {
      "cell_type": "markdown",
      "metadata": {
        "id": "sadVXhZkwZZX",
        "colab_type": "text"
      },
      "source": [
        "6) Implemente uma função que peça os 3 lados de um triângulo. O programa deverá informar se os valores podem formar um triângulo ou não. Indique, caso os lados formem um triângulo, se o mesmo é: equilátero, isósceles ou escaleno."
      ]
    },
    {
      "cell_type": "code",
      "metadata": {
        "id": "KY9fc54NwZZY",
        "colab_type": "code",
        "colab": {}
      },
      "source": [
        "lado1 = float(input(\"Lado 1: \"))\n",
        "lado2 = float(input(\"Lado 2: \"))\n",
        "lado3 = float(input(\"Lado 3: \"))\n",
        "\n",
        "if lado1 + lado2 > lado3 or lado1 + lado3 > lado2 or lado2 + lado3 > lado1:\n",
        "    print(\"É UM TRINGULO\")\n",
        "    if lado1 == lado2 and lado1 == lado3:\n",
        "        print(\"Equilatero\")\n",
        "    elif lado1 == lado2 or lado2 == lado3 or lado3 == lado1:\n",
        "        print(\"Isóceles\")\n",
        "    else:\n",
        "        print(\"Escaleno\")\n",
        "else:\n",
        "    print(\"Não é um TRINGULO\")"
      ],
      "execution_count": 0,
      "outputs": []
    },
    {
      "cell_type": "markdown",
      "metadata": {
        "id": "PJJbHnunwZZa",
        "colab_type": "text"
      },
      "source": [
        "7) Implemente uma função que recebe uma data no formato dd/mm/aaaa e retorna True/False se a mesma é uma data válida/inválida."
      ]
    },
    {
      "cell_type": "code",
      "metadata": {
        "id": "-wBMscaMwZZa",
        "colab_type": "code",
        "colab": {}
      },
      "source": [
        "data = input(\"Digite a data no seguinte modelo: [11/07/2002] :\")\n",
        "if len(data) != 10:\n",
        "    print(\"ERRADO\")\n",
        "else:\n",
        "    if data[2] != '/' or data[5] != '/':\n",
        "        print(\"ERRADO\")\n",
        "    else:\n",
        "        numeros_data = data.split('/')\n",
        "        if int(numeros_data[0]) > 31:\n",
        "            print(\"ERRADO\")\n",
        "        elif int(numeros_data[1]) > 12:\n",
        "            print(\"ERRADO\")\n",
        "        else:\n",
        "            print(\"CERTO\")"
      ],
      "execution_count": 0,
      "outputs": []
    },
    {
      "cell_type": "markdown",
      "metadata": {
        "id": "YNZwOUmOwZZc",
        "colab_type": "text"
      },
      "source": [
        "---\n",
        "## ESTRUTURA DE REPETIÇÃO\n",
        "\n",
        "1) Implemente uma função que leia 5 números e retornew o maior número."
      ]
    },
    {
      "cell_type": "code",
      "metadata": {
        "id": "Yj127g2ywZZd",
        "colab_type": "code",
        "outputId": "f7d72d6f-0b4f-4c6f-a3c8-6f11a992c866",
        "colab": {
          "base_uri": "https://localhost:8080/",
          "height": 118
        }
      },
      "source": [
        "n1 = float(input(\"Número 1: \"))\n",
        "n2 = float(input(\"Número 2: \"))\n",
        "n3 = float(input(\"Número 3: \"))\n",
        "n4 = float(input(\"Número 4: \"))\n",
        "n5 = float(input(\"Número 5: \"))\n",
        "\n",
        "lista = [n1, n2, n3, n4, n5]\n",
        "\n",
        "print(\"O maior número é: \", max(lista))"
      ],
      "execution_count": 0,
      "outputs": [
        {
          "output_type": "stream",
          "text": [
            "Número 1: 10\n",
            "Número 2: 6\n",
            "Número 3: 4\n",
            "Número 4: 8\n",
            "Número 5: 2\n",
            "O maior número é:  10.0\n"
          ],
          "name": "stdout"
        }
      ]
    },
    {
      "cell_type": "markdown",
      "metadata": {
        "id": "G8FDRy_PwZZe",
        "colab_type": "text"
      },
      "source": [
        "2) Implemente uma função que leia 5 números e retorna a soma e a média dos números."
      ]
    },
    {
      "cell_type": "code",
      "metadata": {
        "id": "8xFxPYwmwZZf",
        "colab_type": "code",
        "outputId": "4620a7c7-b3f2-488f-b37f-b3787461ae81",
        "colab": {
          "base_uri": "https://localhost:8080/",
          "height": 34
        }
      },
      "source": [
        "notas = [0, 0, 9.0, 8.0, 5.0, 10.0]\n",
        "soma_das_notas = 0\n",
        "for nota in notas:\n",
        "    soma_das_notas += nota\n",
        "\n",
        "print(soma_das_notas)"
      ],
      "execution_count": 0,
      "outputs": [
        {
          "output_type": "stream",
          "text": [
            "32.0\n"
          ],
          "name": "stdout"
        }
      ]
    },
    {
      "cell_type": "markdown",
      "metadata": {
        "id": "I1XBiunxwZZi",
        "colab_type": "text"
      },
      "source": [
        "3) Implemente uma função que recebe dois números e imprima na tela apenas os números ímpares entre eles.\n",
        "\n",
        "---\n",
        "\n",
        "\n",
        "\n",
        "---\n",
        "\n"
      ]
    },
    {
      "cell_type": "code",
      "metadata": {
        "id": "rf69dBJewZZj",
        "colab_type": "code",
        "colab": {}
      },
      "source": [
        ""
      ],
      "execution_count": 0,
      "outputs": []
    },
    {
      "cell_type": "markdown",
      "metadata": {
        "id": "LQF-1lmwwZZo",
        "colab_type": "text"
      },
      "source": [
        "4) Implemente uma função que recebe um número (n−ésimo termo) e retorne a série de Fibonacci até este n−ésimo termo."
      ]
    },
    {
      "cell_type": "code",
      "metadata": {
        "id": "4hJ07Ka8wZZp",
        "colab_type": "code",
        "outputId": "6314e634-1470-489c-875c-bf8416348e58",
        "colab": {
          "base_uri": "https://localhost:8080/",
          "height": 202
        }
      },
      "source": [
        "ultimo = 1\n",
        "penultimo = 1\n",
        "count = 1\n",
        "print(ultimo)\n",
        "print(penultimo)\n",
        "while count <= 9:\n",
        "        termo = ultimo + penultimo\n",
        "        penultimo = ultimo\n",
        "        ultimo = termo\n",
        "        count += 1\n",
        "        print(termo)"
      ],
      "execution_count": 0,
      "outputs": [
        {
          "output_type": "stream",
          "text": [
            "1\n",
            "1\n",
            "2\n",
            "3\n",
            "5\n",
            "8\n",
            "13\n",
            "21\n",
            "34\n",
            "55\n",
            "89\n"
          ],
          "name": "stdout"
        }
      ]
    },
    {
      "cell_type": "markdown",
      "metadata": {
        "id": "-FBbgOYDwZZs",
        "colab_type": "text"
      },
      "source": [
        "5) Escreva uma função que calcule o fatorial de um número inteiro passado como parâmetro. Ex.: 5!=5.4.3.2.1=120 \n",
        "\n",
        "---\n",
        "\n"
      ]
    },
    {
      "cell_type": "code",
      "metadata": {
        "id": "v3yvNLKOwZZt",
        "colab_type": "code",
        "outputId": "cb8485a3-0cd9-4de3-cc8f-f3daf53f63e6",
        "colab": {
          "base_uri": "https://localhost:8080/",
          "height": 67
        }
      },
      "source": [
        "import math\n",
        "numero = int(input(\"\\nDigite o numero que quer realizar a fatorial : \"))\n",
        "count = numero\n",
        "fatorial = math.factorial(numero)\n",
        "\n",
        "for i in range(numero - 1):\n",
        "    print(count, end=\" * \")\n",
        "    count -= 1\n",
        "print(\"1 = \", fatorial)"
      ],
      "execution_count": 0,
      "outputs": [
        {
          "output_type": "stream",
          "text": [
            "\n",
            "Digite o numero que quer realizar a fatorial : 5\n",
            "5 * 4 * 3 * 2 * 1 =  120\n"
          ],
          "name": "stdout"
        }
      ]
    },
    {
      "cell_type": "markdown",
      "metadata": {
        "id": "kNtM4yFbwZZu",
        "colab_type": "text"
      },
      "source": [
        "6) Escreva uma função que receba o valor de uma dívida e mostre uma tabela com os seguintes dados: valor da dívida, valor dos juros, quantidade de parcelas e valor da parcela.\n",
        "\n",
        "Os juros e a quantidade de parcelas seguem a tabela abaixo:\n",
        "\n",
        "```\n",
        "Quantidade de Parcelas  % de Juros sobre o valor inicial da dívida\n",
        "1       0\n",
        "3       10\n",
        "6       15\n",
        "9       20\n",
        "12      25\n",
        "```\n",
        "\n",
        "Exemplo de saída do programa:\n",
        "\n",
        "```\n",
        "Valor da Dívida Valor dos Juros Quantidade de Parcelas  Valor da Parcela\n",
        "R$ 1.000,00     0               1                       R$  1.000,00\n",
        "R$ 1.100,00     100             3                       R$    366,00\n",
        "R$ 1.150,00     150             6                       R$    191,67\n",
        "```"
      ]
    },
    {
      "cell_type": "code",
      "metadata": {
        "id": "YwdH-jTTwZZv",
        "colab_type": "code",
        "colab": {}
      },
      "source": [
        "print(\"\\n\" * 5)\n",
        "divida = float(input(\"Digite o valor da divida: \"))\n",
        "parcela = 1\n",
        "print(\"\\n\" * 5)\n",
        "print(\"Valor da divida: \", end=\"  \")\n",
        "print(\"Valor do juros: \", end=\"  \")\n",
        "print(\"Quantidade de parcelas: \", end=\"  \")\n",
        "print(\"Valor da parcela: \")\n",
        "\n",
        "for i in range(5):\n",
        "    if parcela == 1:\n",
        "        juros = 1\n",
        "        valor_juros = 0\n",
        "    elif parcela == 4:\n",
        "        parcela = 3\n",
        "        juros = 1.10\n",
        "    elif parcela == 7 or parcela == 6:\n",
        "        parcela = 6\n",
        "        juros = 1.15\n",
        "    elif parcela == 10 or parcela == 9:\n",
        "        parcela = 9\n",
        "        juros = 1.20\n",
        "    elif parcela == 13 or parcela == 12:\n",
        "        parcela = 12\n",
        "        juros = 1.25\n",
        "\n",
        "    valor_juros = divida * (juros - 1)\n",
        "    divida_com_juros = divida * juros\n",
        "    valor_parcela = divida_com_juros / parcela\n",
        "\n",
        "    print(\"R$\", round(divida_com_juros, 2), end=\"            \")\n",
        "    print(round(valor_juros, 2), end=\"                  \")\n",
        "    print(parcela, end=\"                        \")\n",
        "    print(\"R$ \", round(valor_parcela, 2))\n",
        "    parcela += 3"
      ],
      "execution_count": 0,
      "outputs": []
    },
    {
      "cell_type": "markdown",
      "metadata": {
        "id": "6eOxGK82wZZy",
        "colab_type": "text"
      },
      "source": [
        "7) O cardápio de uma lanchonete é o seguinte:\n",
        "\n",
        "```\n",
        "Especificação   Código  Preço\n",
        "Cachorro Quente 100     R$ 1,20\n",
        "Bauru Simples   101     R$ 1,30\n",
        "Bauru com ovo   102     R$ 1,50\n",
        "Hambúrguer      103     R$ 1,20\n",
        "Cheeseburguer   104     R$ 1,30\n",
        "Refrigerante    105     R$ 1,00\n",
        "```\n",
        "\n",
        "Escreva uma função que recebe o código de itens pedidos e as quantidades desejadas. Calcule e mostre o valor a ser pago por item (preço * quantidade) e o total geral do pedido."
      ]
    },
    {
      "cell_type": "code",
      "metadata": {
        "id": "a-76iBs7wZZz",
        "colab_type": "code",
        "colab": {}
      },
      "source": [
        "codigos = [100, 101, 102, 103, 104, 105]\n",
        "comidas = ['Cachorro Quente', 'Bauru Simples', 'Bauru com ovo', 'Hamburguer', 'ChesseBurguer', 'Refrigerante']\n",
        "precos = [1.20, 1.30, 1.50, 1.20, 1.30, 1.0]\n",
        "codigo = True\n",
        "n_pedido = 1\n",
        "pedido = []\n",
        "\n",
        "while codigo != 0:\n",
        "    print(\"\\nPedido n°\", n_pedido)\n",
        "    codigo = int(input(\"Digite o código do alimento: \"))\n",
        "    if codigo == 0:\n",
        "        break\n",
        "    else:\n",
        "        while codigo not in codigos:\n",
        "            print(\"[Este código não corresponde a nenhum alimento.]\")\n",
        "            codigo = int(input(\"Digite o código do alimento: \"))\n",
        "\n",
        "        indice = codigos.index(codigo)\n",
        "        quantidade = int(input(\"Digite a quantidade: \"))\n",
        "        valor_pedido = precos[indice] * quantidade\n",
        "        pedido.append(valor_pedido)\n",
        "    n_pedido += 1\n",
        "\n",
        "pedido_nota = 0\n",
        "print(\"\\n\" * 2)\n",
        "for i in range(n_pedido - 1):\n",
        "    print(\"Pedido n°\", pedido_nota + 1, \"= R$\", round(pedido[pedido_nota], 2))\n",
        "    pedido_nota += 1\n",
        "print(\"Total: R$\", round(sum(pedido), 2))"
      ],
      "execution_count": 0,
      "outputs": []
    },
    {
      "cell_type": "markdown",
      "metadata": {
        "id": "B04c9aCiwZZ0",
        "colab_type": "text"
      },
      "source": [
        "8) Em uma competição de ginástica, cada atleta recebe votos de sete jurados. A melhor e a pior nota são eliminadas. A sua nota fica sendo a média dos votos restantes. Você deve fazer uma função que receba o nome do ginasta e as notas dos sete jurados alcançadas pelo atleta em sua apresentação e depois informe a sua média, conforme a descrição acima informada (retirar o melhor e o pior salto e depois calcular a média com as notas restantes). As notas não são informados ordenadas. \n",
        "\n",
        "Um exemplo de saída do programa deve ser conforme o exemplo abaixo:\n",
        "\n",
        "```\n",
        "Atleta: Aparecido Parente\n",
        "Nota: 9.9\n",
        "Nota: 7.5\n",
        "Nota: 9.5\n",
        "Nota: 8.5\n",
        "Nota: 9.0\n",
        "Nota: 8.5\n",
        "Nota: 9.7\n",
        "\n",
        "Resultado final:\n",
        "Atleta: Aparecido Parente\n",
        "Melhor nota: 9.9\n",
        "Pior nota: 7.5\n",
        "Média: 9,04\n",
        "```"
      ]
    },
    {
      "cell_type": "code",
      "metadata": {
        "id": "6dpBllh7wZZ1",
        "colab_type": "code",
        "outputId": "bfe0b90b-559a-4692-d01b-a7fb5d2a92a1",
        "colab": {
          "base_uri": "https://localhost:8080/",
          "height": 846
        }
      },
      "source": [
        "import time\n",
        "nome_atleta = True\n",
        "n_atleta = 1\n",
        "while nome_atleta != '':\n",
        "    notas = []\n",
        "    print(\"\\n\" * 5)\n",
        "    print(\"Atleta n°\", n_atleta)\n",
        "    nome_atleta = input(\"Digite o nome do atleta: \")\n",
        "    if nome_atleta == '':\n",
        "        break\n",
        "    else:\n",
        "        n_jurado = 1\n",
        "        print(\"\\n\" * 3)\n",
        "        for i in range(7):\n",
        "            print(\"Jurado n° \", n_jurado)\n",
        "            nota = float(input(\"Digite a nota: \"))\n",
        "            notas.append(nota)\n",
        "            n_jurado += 1\n",
        "        print(\"Atleta: \", nome_atleta)\n",
        "        n_jurado = 1\n",
        "        count = 0\n",
        "        for i in range(7):\n",
        "            print(n_jurado, \"° Jurado : \", notas[count])\n",
        "            n_jurado += 1\n",
        "            count += 1\n",
        "        print(\"Resultado Final:\")\n",
        "        print(\"Nome do atleta: \", nome_atleta)\n",
        "        print(\"Melhor nota: \", max(notas))\n",
        "        print(\"Pior nota: \", min(notas))\n",
        "        notas.remove(max(notas))\n",
        "        notas.remove(min(notas))\n",
        "        media = sum(notas) / len(notas)\n",
        "        print(\"Media: \", round(media, 2))\n",
        "        n_atleta += 1\n",
        "        print(\"Reiniciando em 5 segundos\")\n",
        "        time.sleep(5)"
      ],
      "execution_count": 0,
      "outputs": [
        {
          "output_type": "stream",
          "text": [
            "\n",
            "\n",
            "\n",
            "\n",
            "\n",
            "\n",
            "Atleta n° 1\n",
            "Digite o nome do atleta: Henrique\n",
            "\n",
            "\n",
            "\n",
            "\n",
            "Jurado n°  1\n",
            "Digite a nota: 1\n",
            "Jurado n°  2\n",
            "Digite a nota: 2\n",
            "Jurado n°  3\n",
            "Digite a nota: 3\n",
            "Jurado n°  4\n",
            "Digite a nota: 4\n",
            "Jurado n°  5\n",
            "Digite a nota: 5\n",
            "Jurado n°  6\n",
            "Digite a nota: 6\n",
            "Jurado n°  7\n",
            "Digite a nota: 7\n",
            "Atleta:  Henrique\n",
            "1 ° Jurado :  1.0\n",
            "2 ° Jurado :  2.0\n",
            "3 ° Jurado :  3.0\n",
            "4 ° Jurado :  4.0\n",
            "5 ° Jurado :  5.0\n",
            "6 ° Jurado :  6.0\n",
            "7 ° Jurado :  7.0\n",
            "Resultado Final:\n",
            "Nome do atleta:  Henrique\n",
            "Melhor nota:  7.0\n",
            "Pior nota:  1.0\n",
            "Media:  4.0\n",
            "Reiniciando em 5 segundos\n",
            "\n",
            "\n",
            "\n",
            "\n",
            "\n",
            "\n",
            "Atleta n° 2\n"
          ],
          "name": "stdout"
        }
      ]
    },
    {
      "cell_type": "markdown",
      "metadata": {
        "id": "W2Xcg0BLwZZ2",
        "colab_type": "text"
      },
      "source": [
        "---\n",
        "## FUNÇÕES\n",
        "\n",
        "1) Implemente uma função para imprimir:\n",
        "\n",
        "```\n",
        "1\n",
        "2   2\n",
        "3   3   3\n",
        ".....\n",
        "n   n   n   n   n   n  ... n\n",
        "```\n",
        "\n",
        "para um `n` passado como parâmetro. Use uma função que receba um valor n inteiro e imprima até a n-ésima linha. "
      ]
    },
    {
      "cell_type": "code",
      "metadata": {
        "id": "Z5UKC67xwZZ2",
        "colab_type": "code",
        "colab": {}
      },
      "source": [
        "def exercicio_1(n):\n",
        "   for i in range(n): \n",
        "      i += 1\n",
        "      print(i) * i"
      ],
      "execution_count": 0,
      "outputs": []
    },
    {
      "cell_type": "markdown",
      "metadata": {
        "id": "jJpW66aMwZZ4",
        "colab_type": "text"
      },
      "source": [
        "2) Quadrado mágico. Um quadrado mágico é aquele dividido em linhas e colunas, com um número em cada posição e no qual a soma das linhas, colunas e diagonais é a mesma. Por exemplo, veja um quadrado mágico de lado 3, com números de 1 a 9:\n",
        "\n",
        "```\n",
        "8  3  4 \n",
        "1  5  9\n",
        "6  7  2\n",
        "```\n",
        "\n",
        "Elabore uma função que identifica e mostra na tela todos os quadrados mágicos com as características acima. Dica: produza todas as combinações possíveis e verifique a soma quando completar cada quadrado. Usar um vetor de 1 a 9 parece ser mais simples que usar uma matriz 3x3. "
      ]
    },
    {
      "cell_type": "code",
      "metadata": {
        "id": "T6NmOJjfwZZ5",
        "colab_type": "code",
        "colab": {}
      },
      "source": [
        "import random\n",
        "                #j(coluna)\n",
        "matriz = [[1, 2, 3],#i(linha)\n",
        "          [4, 5, 6],\n",
        "          [7, 8, 9]]\n",
        "res = False\n",
        "#DEFINIR UMA FUNÇÃO PARA CALCULAR AS SOMAS DE TODOS OS LADOS\n",
        "def magicsquare():\n",
        "    if matriz[0][0] + matriz[1][0] + matriz[2][0] == matriz[0][1] + matriz[1][1] + matriz[2][1] == matriz[0][2] + matriz[1][2] + matriz[2][2] == matriz[0][0] + matriz[0][1] + matriz[0][2] == matriz[1][0] + matriz[1][1] + matriz[1][2] == matriz[2][0] + matriz[2][1] + matriz[2][2] == matriz[0][0] + matriz[1][1] + matriz[2][2] == matriz[0][2] + matriz[1][1] + matriz[2][0]:\n",
        "        return res == True\n",
        "    else:\n",
        "        return res == False\n",
        "\n",
        "#DEFINIR UM LOOP PARA GERAR Nº ALEAT. ATÉ ENCONTRAR OS QUE SATIZFAZEM\n",
        "#AS CONDIÇÕES DE UM QUADRADO MÁGICO\n",
        "seq = [1, 2, 3, 4, 5, 6, 7, 8, 9]\n",
        "while res == False:\n",
        "    seq = [1, 2, 3, 4, 5, 6, 7, 8, 9] # Dentro do while, não fora\n",
        "    for i in range(3): # 3, não 2 (0,1,2)\n",
        "        for j in range(3):\n",
        "            z = random.choice(seq)\n",
        "            matriz[i][j] = z\n",
        "            x = seq.index(z)\n",
        "            seq = seq[:x] + seq[x+1:] # Remove o elemento x do conjunto\n",
        "    magicsquare()\n",
        "print (matriz)\n",
        "res = False\n",
        "def magicsquare():\n",
        "    global res\n",
        "    if matriz[0][0] + matriz[1][0] + matriz[2][0] == matriz[0][1] + matriz[1][1] + matriz[2][1] == matriz[0][2] + matriz[1][2] + matriz[2][2] == matriz[0][0] + matriz[0][1] + matriz[0][2] == matriz[1][0] + matriz[1][1] + matriz[1][2] == matriz[2][0] + matriz[2][1] + matriz[2][2] == matriz[0][0] + matriz[1][1] + matriz[2][2] == matriz[0][2] + matriz[1][1] + matriz[2][0]:\n",
        "        res = True  # Primeiro atribui...\n",
        "    else:\n",
        "        res = False # Primeiro atribui...\n",
        "    return res # ...depois usa\n",
        "#        0  1  2  3  4  5  6  7  8\n",
        "vetor = [1, 2, 3, 4, 5, 6, 7, 8, 9]\n",
        "seq = [1, 2, 3, 4, 5, 6, 7, 8, 9]\n",
        "if res == False:\n",
        "    for i in range(8):\n",
        "        w = random.choice(seq)\n",
        "        #Repor o valor w(1 a 9) no index i(0 a 8). Sem usar valores e indexes repetidos\n",
        "        vetor.insert(i, w)\n",
        "        #Eliminar os valores já utilizados\n",
        "        x = seq.index(w)\n",
        "        seq[x] =[]\n",
        "    magicsquare()\n",
        "print (vetor)"
      ],
      "execution_count": 0,
      "outputs": []
    },
    {
      "cell_type": "markdown",
      "metadata": {
        "id": "gLLsbYUNwZZ6",
        "colab_type": "text"
      },
      "source": [
        "3) Faça uma função que retorne o reverso de um número inteiro informado. Por exemplo: 127 -> 721. "
      ]
    },
    {
      "cell_type": "code",
      "metadata": {
        "id": "EzaZJlHrwZZ7",
        "colab_type": "code",
        "colab": {}
      },
      "source": [
        "def reverso_numero():\n",
        "  numeros = [1, 2, 3, 4, 5]\n",
        "  print(numeros[::-1])"
      ],
      "execution_count": 0,
      "outputs": []
    },
    {
      "cell_type": "markdown",
      "metadata": {
        "id": "us5zAGYHwZZ9",
        "colab_type": "text"
      },
      "source": [
        "4) Embaralha palavra. Construa uma função que receba uma string como parâmetro e devolva outra string com os carateres embaralhados. Por exemplo: se função receber a palavra python, pode retornar npthyo, ophtyn ou qualquer outra combinação possível, de forma aleatória. Padronize em sua função que todos os caracteres serão devolvidos em caixa alta ou caixa baixa, independentemente de como foram digitados."
      ]
    },
    {
      "cell_type": "code",
      "metadata": {
        "id": "n7uVq-5mwZZ-",
        "colab_type": "code",
        "colab": {}
      },
      "source": [
        "import random\n",
        "\n",
        "def palavras_emparalhadas(letras):\n",
        "  palavra = list(letras)\n",
        "  random.shuffle(palavra)\n",
        "  print(palavra)\n",
        "\n",
        "\n",
        "palavras_emparalhadas(\"abcdef\")"
      ],
      "execution_count": 0,
      "outputs": []
    },
    {
      "cell_type": "markdown",
      "metadata": {
        "id": "Nq_xdcxEwZaB",
        "colab_type": "text"
      },
      "source": [
        "5) Desenha moldura. Construa uma função que desenhe um retângulo usando os caracteres ‘+’ , ‘−’ e ‘| ‘. Esta função deve receber dois parâmetros, linhas e colunas, sendo que o valor por omissão é o valor mínimo igual a 1 e o valor máximo é 20. Se valores fora da faixa forem informados, eles devem ser modificados para valores dentro da faixa de forma elegante. "
      ]
    },
    {
      "cell_type": "code",
      "metadata": {
        "id": "m9If0kp1wZaC",
        "colab_type": "code",
        "colab": {}
      },
      "source": [
        "altura = int(input(\"Digite a altura do retangulo: \"))\n",
        "largura = int(input(\"Digite a largura do retangulo: \"))\n",
        "while altura < 1 or altura > 20 or largura < 1 or largura > 20:\n",
        "    print(\"\\n\" * 3, \"[Digite numeros entre 1 e 20]\")\n",
        "    altura = int(input(\"Digite a altura do retangulo: \"))\n",
        "    largura = int(input(\"Digite a largura do retangulo: \"))\n",
        "def teto_chao(largura):\n",
        "    print(\"+\", \"  -  \" * (largura - 2), \"+\")\n",
        "def paredes(altura, largura):\n",
        "    for i in range(altura - 2):\n",
        "        print(\"|\", \"     \" * (largura - 2), \"|\")\n",
        "def desenhar(altura, largura):\n",
        "    teto_chao(largura)\n",
        "    paredes(altura, largura)\n",
        "    teto_chao(largura)\n",
        "desenhar(altura, largura)"
      ],
      "execution_count": 0,
      "outputs": []
    },
    {
      "cell_type": "markdown",
      "metadata": {
        "id": "Ut1pBOjewZaE",
        "colab_type": "text"
      },
      "source": [
        "---\n",
        "## STRINGS\n",
        "\n",
        "1) Nome na vertical. Faça uma função que recebe o nome do usuário e imprima-o na vertical.\n",
        "\n",
        "```\n",
        "F\n",
        "U\n",
        "L\n",
        "A\n",
        "N\n",
        "O\n",
        "```"
      ]
    },
    {
      "cell_type": "code",
      "metadata": {
        "id": "1OOMVI3NwZaE",
        "colab_type": "code",
        "outputId": "521ef6ba-41ea-4c45-9cf6-4b21de28a674",
        "colab": {
          "base_uri": "https://localhost:8080/",
          "height": 151
        }
      },
      "source": [
        "def palavras_na_vertical(nome):\n",
        "  cont = 0 \n",
        "  while cont < len(nome):\n",
        "      c = int(cont)\n",
        "      print(nome[c])\n",
        "      cont += 1 \n",
        "palavras_na_vertical(\"Henrique\")"
      ],
      "execution_count": 0,
      "outputs": [
        {
          "output_type": "stream",
          "text": [
            "H\n",
            "e\n",
            "n\n",
            "r\n",
            "i\n",
            "q\n",
            "u\n",
            "e\n"
          ],
          "name": "stdout"
        }
      ]
    },
    {
      "cell_type": "markdown",
      "metadata": {
        "id": "HFeEbz3HwZaG",
        "colab_type": "text"
      },
      "source": [
        "2) Nome na vertical em escada. Modifique a função anterior de forma a mostrar o nome em formato de escada.\n",
        "\n",
        "```\n",
        "F\n",
        "FU\n",
        "FUL\n",
        "FULA\n",
        "FULAN\n",
        "FULANO\n",
        "```"
      ]
    },
    {
      "cell_type": "code",
      "metadata": {
        "id": "yDkgSz34wZaH",
        "colab_type": "code",
        "outputId": "e8cf302a-4a24-4bf3-9b51-32d8d9b4d240",
        "colab": {
          "base_uri": "https://localhost:8080/",
          "height": 522
        }
      },
      "source": [
        "nome = str(input('Digite o seu nome: ')).upper()\n",
        "for i in range(0, len(nome)+1):\n",
        "  print(nome[:i])"
      ],
      "execution_count": 1,
      "outputs": [
        {
          "output_type": "error",
          "ename": "KeyboardInterrupt",
          "evalue": "ignored",
          "traceback": [
            "\u001b[0;31m---------------------------------------------------------------------------\u001b[0m",
            "\u001b[0;31mKeyboardInterrupt\u001b[0m                         Traceback (most recent call last)",
            "\u001b[0;32m/usr/local/lib/python3.6/dist-packages/ipykernel/kernelbase.py\u001b[0m in \u001b[0;36m_input_request\u001b[0;34m(self, prompt, ident, parent, password)\u001b[0m\n\u001b[1;32m    729\u001b[0m             \u001b[0;32mtry\u001b[0m\u001b[0;34m:\u001b[0m\u001b[0;34m\u001b[0m\u001b[0;34m\u001b[0m\u001b[0m\n\u001b[0;32m--> 730\u001b[0;31m                 \u001b[0mident\u001b[0m\u001b[0;34m,\u001b[0m \u001b[0mreply\u001b[0m \u001b[0;34m=\u001b[0m \u001b[0mself\u001b[0m\u001b[0;34m.\u001b[0m\u001b[0msession\u001b[0m\u001b[0;34m.\u001b[0m\u001b[0mrecv\u001b[0m\u001b[0;34m(\u001b[0m\u001b[0mself\u001b[0m\u001b[0;34m.\u001b[0m\u001b[0mstdin_socket\u001b[0m\u001b[0;34m,\u001b[0m \u001b[0;36m0\u001b[0m\u001b[0;34m)\u001b[0m\u001b[0;34m\u001b[0m\u001b[0;34m\u001b[0m\u001b[0m\n\u001b[0m\u001b[1;32m    731\u001b[0m             \u001b[0;32mexcept\u001b[0m \u001b[0mException\u001b[0m\u001b[0;34m:\u001b[0m\u001b[0;34m\u001b[0m\u001b[0;34m\u001b[0m\u001b[0m\n",
            "\u001b[0;32m/usr/local/lib/python3.6/dist-packages/jupyter_client/session.py\u001b[0m in \u001b[0;36mrecv\u001b[0;34m(self, socket, mode, content, copy)\u001b[0m\n\u001b[1;32m    802\u001b[0m         \u001b[0;32mtry\u001b[0m\u001b[0;34m:\u001b[0m\u001b[0;34m\u001b[0m\u001b[0;34m\u001b[0m\u001b[0m\n\u001b[0;32m--> 803\u001b[0;31m             \u001b[0mmsg_list\u001b[0m \u001b[0;34m=\u001b[0m \u001b[0msocket\u001b[0m\u001b[0;34m.\u001b[0m\u001b[0mrecv_multipart\u001b[0m\u001b[0;34m(\u001b[0m\u001b[0mmode\u001b[0m\u001b[0;34m,\u001b[0m \u001b[0mcopy\u001b[0m\u001b[0;34m=\u001b[0m\u001b[0mcopy\u001b[0m\u001b[0;34m)\u001b[0m\u001b[0;34m\u001b[0m\u001b[0;34m\u001b[0m\u001b[0m\n\u001b[0m\u001b[1;32m    804\u001b[0m         \u001b[0;32mexcept\u001b[0m \u001b[0mzmq\u001b[0m\u001b[0;34m.\u001b[0m\u001b[0mZMQError\u001b[0m \u001b[0;32mas\u001b[0m \u001b[0me\u001b[0m\u001b[0;34m:\u001b[0m\u001b[0;34m\u001b[0m\u001b[0;34m\u001b[0m\u001b[0m\n",
            "\u001b[0;32m/usr/local/lib/python3.6/dist-packages/zmq/sugar/socket.py\u001b[0m in \u001b[0;36mrecv_multipart\u001b[0;34m(self, flags, copy, track)\u001b[0m\n\u001b[1;32m    465\u001b[0m         \"\"\"\n\u001b[0;32m--> 466\u001b[0;31m         \u001b[0mparts\u001b[0m \u001b[0;34m=\u001b[0m \u001b[0;34m[\u001b[0m\u001b[0mself\u001b[0m\u001b[0;34m.\u001b[0m\u001b[0mrecv\u001b[0m\u001b[0;34m(\u001b[0m\u001b[0mflags\u001b[0m\u001b[0;34m,\u001b[0m \u001b[0mcopy\u001b[0m\u001b[0;34m=\u001b[0m\u001b[0mcopy\u001b[0m\u001b[0;34m,\u001b[0m \u001b[0mtrack\u001b[0m\u001b[0;34m=\u001b[0m\u001b[0mtrack\u001b[0m\u001b[0;34m)\u001b[0m\u001b[0;34m]\u001b[0m\u001b[0;34m\u001b[0m\u001b[0;34m\u001b[0m\u001b[0m\n\u001b[0m\u001b[1;32m    467\u001b[0m         \u001b[0;31m# have first part already, only loop while more to receive\u001b[0m\u001b[0;34m\u001b[0m\u001b[0;34m\u001b[0m\u001b[0;34m\u001b[0m\u001b[0m\n",
            "\u001b[0;32mzmq/backend/cython/socket.pyx\u001b[0m in \u001b[0;36mzmq.backend.cython.socket.Socket.recv\u001b[0;34m()\u001b[0m\n",
            "\u001b[0;32mzmq/backend/cython/socket.pyx\u001b[0m in \u001b[0;36mzmq.backend.cython.socket.Socket.recv\u001b[0;34m()\u001b[0m\n",
            "\u001b[0;32mzmq/backend/cython/socket.pyx\u001b[0m in \u001b[0;36mzmq.backend.cython.socket._recv_copy\u001b[0;34m()\u001b[0m\n",
            "\u001b[0;32m/usr/local/lib/python3.6/dist-packages/zmq/backend/cython/checkrc.pxd\u001b[0m in \u001b[0;36mzmq.backend.cython.checkrc._check_rc\u001b[0;34m()\u001b[0m\n",
            "\u001b[0;31mKeyboardInterrupt\u001b[0m: ",
            "\nDuring handling of the above exception, another exception occurred:\n",
            "\u001b[0;31mKeyboardInterrupt\u001b[0m                         Traceback (most recent call last)",
            "\u001b[0;32m<ipython-input-1-25c6b0e259eb>\u001b[0m in \u001b[0;36m<module>\u001b[0;34m()\u001b[0m\n\u001b[0;32m----> 1\u001b[0;31m \u001b[0mnome\u001b[0m \u001b[0;34m=\u001b[0m \u001b[0mstr\u001b[0m\u001b[0;34m(\u001b[0m\u001b[0minput\u001b[0m\u001b[0;34m(\u001b[0m\u001b[0;34m'Digite o seu nome: '\u001b[0m\u001b[0;34m)\u001b[0m\u001b[0;34m)\u001b[0m\u001b[0;34m.\u001b[0m\u001b[0mupper\u001b[0m\u001b[0;34m(\u001b[0m\u001b[0;34m)\u001b[0m\u001b[0;34m\u001b[0m\u001b[0;34m\u001b[0m\u001b[0m\n\u001b[0m\u001b[1;32m      2\u001b[0m \u001b[0;32mfor\u001b[0m \u001b[0mi\u001b[0m \u001b[0;32min\u001b[0m \u001b[0mrange\u001b[0m\u001b[0;34m(\u001b[0m\u001b[0;36m0\u001b[0m\u001b[0;34m,\u001b[0m \u001b[0mlen\u001b[0m\u001b[0;34m(\u001b[0m\u001b[0mnome\u001b[0m\u001b[0;34m)\u001b[0m\u001b[0;34m+\u001b[0m\u001b[0;36m1\u001b[0m\u001b[0;34m)\u001b[0m\u001b[0;34m:\u001b[0m\u001b[0;34m\u001b[0m\u001b[0;34m\u001b[0m\u001b[0m\n\u001b[1;32m      3\u001b[0m   \u001b[0mprint\u001b[0m\u001b[0;34m(\u001b[0m\u001b[0mnome\u001b[0m\u001b[0;34m[\u001b[0m\u001b[0;34m:\u001b[0m\u001b[0mi\u001b[0m\u001b[0;34m]\u001b[0m\u001b[0;34m)\u001b[0m\u001b[0;34m\u001b[0m\u001b[0;34m\u001b[0m\u001b[0m\n",
            "\u001b[0;32m/usr/local/lib/python3.6/dist-packages/ipykernel/kernelbase.py\u001b[0m in \u001b[0;36mraw_input\u001b[0;34m(self, prompt)\u001b[0m\n\u001b[1;32m    703\u001b[0m             \u001b[0mself\u001b[0m\u001b[0;34m.\u001b[0m\u001b[0m_parent_ident\u001b[0m\u001b[0;34m,\u001b[0m\u001b[0;34m\u001b[0m\u001b[0;34m\u001b[0m\u001b[0m\n\u001b[1;32m    704\u001b[0m             \u001b[0mself\u001b[0m\u001b[0;34m.\u001b[0m\u001b[0m_parent_header\u001b[0m\u001b[0;34m,\u001b[0m\u001b[0;34m\u001b[0m\u001b[0;34m\u001b[0m\u001b[0m\n\u001b[0;32m--> 705\u001b[0;31m             \u001b[0mpassword\u001b[0m\u001b[0;34m=\u001b[0m\u001b[0;32mFalse\u001b[0m\u001b[0;34m,\u001b[0m\u001b[0;34m\u001b[0m\u001b[0;34m\u001b[0m\u001b[0m\n\u001b[0m\u001b[1;32m    706\u001b[0m         )\n\u001b[1;32m    707\u001b[0m \u001b[0;34m\u001b[0m\u001b[0m\n",
            "\u001b[0;32m/usr/local/lib/python3.6/dist-packages/ipykernel/kernelbase.py\u001b[0m in \u001b[0;36m_input_request\u001b[0;34m(self, prompt, ident, parent, password)\u001b[0m\n\u001b[1;32m    733\u001b[0m             \u001b[0;32mexcept\u001b[0m \u001b[0mKeyboardInterrupt\u001b[0m\u001b[0;34m:\u001b[0m\u001b[0;34m\u001b[0m\u001b[0;34m\u001b[0m\u001b[0m\n\u001b[1;32m    734\u001b[0m                 \u001b[0;31m# re-raise KeyboardInterrupt, to truncate traceback\u001b[0m\u001b[0;34m\u001b[0m\u001b[0;34m\u001b[0m\u001b[0;34m\u001b[0m\u001b[0m\n\u001b[0;32m--> 735\u001b[0;31m                 \u001b[0;32mraise\u001b[0m \u001b[0mKeyboardInterrupt\u001b[0m\u001b[0;34m\u001b[0m\u001b[0;34m\u001b[0m\u001b[0m\n\u001b[0m\u001b[1;32m    736\u001b[0m             \u001b[0;32melse\u001b[0m\u001b[0;34m:\u001b[0m\u001b[0;34m\u001b[0m\u001b[0;34m\u001b[0m\u001b[0m\n\u001b[1;32m    737\u001b[0m                 \u001b[0;32mbreak\u001b[0m\u001b[0;34m\u001b[0m\u001b[0;34m\u001b[0m\u001b[0m\n",
            "\u001b[0;31mKeyboardInterrupt\u001b[0m: "
          ]
        }
      ]
    },
    {
      "cell_type": "markdown",
      "metadata": {
        "id": "L7af7smrwZaI",
        "colab_type": "text"
      },
      "source": [
        "3) Valida e corrige número de telefone. Faça uma função que recebe um número de telefone, e corrija o número no caso deste conter somente 8 dígitos, acrescentando o '9' na frente. O usuário pode informar o número com ou sem o traço separador.\n",
        "\n",
        "```\n",
        "Valida e corrige número de telefone\n",
        "Telefone: 8461-0133\n",
        "Telefone possui 8 dígitos. Vou acrescentar o digito 9 na frente.\n",
        "Telefone corrigido sem formatação: 984610133\n",
        "Telefone corrigido com formatação: 99461-0133\n",
        "```"
      ]
    },
    {
      "cell_type": "code",
      "metadata": {
        "id": "eA9cSBdtwZaI",
        "colab_type": "code",
        "colab": {}
      },
      "source": [
        "tel = input(\"Informe o telefone: \")\n",
        "ct=\"9\"\n",
        "\n",
        "if (len(tel) < 9):\n",
        " \tprint(\"Faltou um número ! irei incluir um '9' no inicio.\")\n",
        " \tfor i in tel:\n",
        " \t\tct+=i\n",
        " \tprint(ct)\n",
        "else:\n",
        "\tprint(\"Número completo!\")"
      ],
      "execution_count": 0,
      "outputs": []
    },
    {
      "cell_type": "markdown",
      "metadata": {
        "id": "7uCwHO0cwZaK",
        "colab_type": "text"
      },
      "source": [
        "---\n",
        "## CLASSES\n",
        "\n",
        "1) Classe Retangulo: Crie uma classe que modele um retangulo:\n",
        "\n",
        "* **Atributos**: x, y (ou comprimento e largura)\n",
        "* **Métodos**:\n",
        "    * Mudar valor dos lados\n",
        "    * Retornar valor dos lados\n",
        "    * calcular Área\n",
        "    * calcular Perímetro\n",
        "\n",
        "Utilize esta classe em uma função. Ela deve receber as medidas de uma sala e deve criar um objeto com as medidas e calcular a quantidade de pisos e de rodapés necessárias para a sala."
      ]
    },
    {
      "cell_type": "code",
      "metadata": {
        "id": "1Gkcp37VwZaK",
        "colab_type": "code",
        "colab": {}
      },
      "source": [
        "class Retangulo:\n",
        "    def init(self, x, y, base, altura, perimetros):\n",
        "        self.x = x\n",
        "        self.y = y\n",
        "        self.base = base\n",
        "        self.altura = altura\n",
        "        self.perimetros = perimetros\n",
        "\n",
        "    def valores_lados(self):\n",
        "      print(f\"O valor dos lado são {self.lados}\")\n",
        "\n",
        "    def mudar_lados(self, x, y):\n",
        "      self.x = x\n",
        "      self.y = y\n",
        "\n",
        "    def calcular_area(self, area, altura):\n",
        "      area_retangulo = area * altura\n",
        "      return f\"A area do triangulo é de {area_retangulo}\"\n",
        "\n",
        "    def calcular_perimetro(self, base, altura):\n",
        "      perimetro_calculado = (base + altura)*2\n",
        "      return f\"O perimetro é de {perimetro_calculado}\""
      ],
      "execution_count": 0,
      "outputs": []
    },
    {
      "cell_type": "markdown",
      "metadata": {
        "id": "DVbqjE0BwZaL",
        "colab_type": "text"
      },
      "source": [
        "2) Classe Bichinho Virtual: Crie uma classe que modele um Tamagushi (Bichinho Eletrônico):\n",
        "\n",
        "* **Atributos**: Nome, Fome, Saúde e Idade\n",
        "* **Métodos**: Alterar Nome, Fome, Saúde e Idade; Retornar Nome, Fome, Saúde e Idade\n",
        "\n",
        "Existe mais uma informação que devemos levar em consideração, o Humor do nosso tamagushi, este humor é uma combinação entre os atributos Fome e Saúde, ou seja, um campo calculado, então não devemos criar um atributo para armazenar esta informação por que ela pode ser calculada a qualquer momento. "
      ]
    },
    {
      "cell_type": "code",
      "metadata": {
        "id": "v_o4MjsQwZaM",
        "colab_type": "code",
        "colab": {}
      },
      "source": [
        ""
      ],
      "execution_count": 0,
      "outputs": []
    },
    {
      "cell_type": "markdown",
      "metadata": {
        "id": "_hoKosCOwZaN",
        "colab_type": "text"
      },
      "source": [
        "3) Classe carro: Implemente uma classe chamada Carro com as seguintes propriedades:\n",
        "\n",
        "    * Um veículo tem um certo consumo de combustível (medidos em km / litro) e uma certa quantidade de combustível no tanque.\n",
        "    * O consumo é especificado no construtor e o nível de combustível inicial é 0.\n",
        "    * Forneça um método andar( ) que simule o ato de dirigir o veículo por uma certa distância, reduzindo o nível de combustível no tanque de gasolina.\n",
        "    * Forneça um método obterGasolina( ), que retorna o nível atual de combustível.\n",
        "    * Forneça um método adicionarGasolina( ), para abastecer o tanque. Exemplo de uso:\n",
        "\n",
        "```python\n",
        "meuFusca = Carro(15);           # 15 quilômetros por litro de combustível. \n",
        "meuFusca.adicionarGasolina(20); # abastece com 20 litros de combustível. \n",
        "meuFusca.andar(100);            # anda 100 quilômetros.\n",
        "meuFusca.obterGasolina()        # Imprime o combustível que resta no tanque.\n",
        "```"
      ]
    },
    {
      "cell_type": "code",
      "metadata": {
        "id": "ieSBb5LYwZaO",
        "colab_type": "code",
        "colab": {}
      },
      "source": [
        ""
      ],
      "execution_count": 0,
      "outputs": []
    },
    {
      "cell_type": "markdown",
      "metadata": {
        "id": "ibt_lslTwZaV",
        "colab_type": "text"
      },
      "source": [
        "4) Classe Bichinho Virtual++: Melhore o programa do bichinho virtual, permitindo que o usuário especifique quanto de comida ele fornece ao bichinho e por quanto tempo ele brinca com o bichinho. Faça com que estes valores afetem quão rapidamente os níveis de fome e tédio caem. "
      ]
    },
    {
      "cell_type": "code",
      "metadata": {
        "id": "-znzH514wZaW",
        "colab_type": "code",
        "colab": {}
      },
      "source": [
        ""
      ],
      "execution_count": 0,
      "outputs": []
    },
    {
      "cell_type": "markdown",
      "metadata": {
        "id": "VISRnhu4wZaa",
        "colab_type": "text"
      },
      "source": [
        "5) Dado a classe `No`, implemente uma classe que representa uma `Fila`, uma classe que representa uma `Pilha` e uma classe que representa uma `Arvore`"
      ]
    },
    {
      "cell_type": "code",
      "metadata": {
        "id": "povLXZwIwZab",
        "colab_type": "code",
        "colab": {}
      },
      "source": [
        "class No:\n",
        "    def __init__(self, dado=None, proximo=None):\n",
        "        self.dado = dado\n",
        "        self.proximo = proximo\n",
        "\n",
        "    def __str__(self):\n",
        "        return str(self.dado)"
      ],
      "execution_count": 0,
      "outputs": []
    },
    {
      "cell_type": "markdown",
      "metadata": {
        "id": "0i12Vq5rwZac",
        "colab_type": "text"
      },
      "source": [
        "### Fila\n",
        "\n",
        "Uma Fila deve conter as operações `insere(elemento)`, `remove`, `testa_vazia` e `to_list`.\n",
        "\n",
        "* `insere(elemento)` deve inserir o elemento no final da lista\n",
        "* `remove` deve remover o primeiro elemento da lista\n",
        "* `testa_vazia` deve retornar True ou False indicando se a fila está vazia\n",
        "* `to_list` deve retornar uma lista padrão Python que será usada nos testes implementados abaixo\n",
        "\n",
        "A Fila deve ter o atributo `tamanho`, que indica quantos elementos a fila possui."
      ]
    },
    {
      "cell_type": "code",
      "metadata": {
        "id": "q2IJHX2vwZac",
        "colab_type": "code",
        "colab": {}
      },
      "source": [
        "class Fila:\n",
        "    pass\n",
        "    ## IMPLEMENTE"
      ],
      "execution_count": 0,
      "outputs": []
    },
    {
      "cell_type": "code",
      "metadata": {
        "id": "EHSHVO6MwZah",
        "colab_type": "code",
        "outputId": "387829b2-2678-440d-997a-80f8e2112991",
        "colab": {
          "base_uri": "https://localhost:8080/",
          "height": 229
        }
      },
      "source": [
        "fila = Fila()\n",
        "fila.insere(1)\n",
        "\n",
        "assert [1] == fila.to_list()\n",
        "assert 1 == fila.tamanho"
      ],
      "execution_count": 0,
      "outputs": [
        {
          "output_type": "error",
          "ename": "AttributeError",
          "evalue": "ignored",
          "traceback": [
            "\u001b[0;31m---------------------------------------------------------------------------\u001b[0m",
            "\u001b[0;31mAttributeError\u001b[0m                            Traceback (most recent call last)",
            "\u001b[0;32m<ipython-input-20-d38b6944aaeb>\u001b[0m in \u001b[0;36m<module>\u001b[0;34m()\u001b[0m\n\u001b[1;32m      1\u001b[0m \u001b[0mfila\u001b[0m \u001b[0;34m=\u001b[0m \u001b[0mFila\u001b[0m\u001b[0;34m(\u001b[0m\u001b[0;34m)\u001b[0m\u001b[0;34m\u001b[0m\u001b[0;34m\u001b[0m\u001b[0m\n\u001b[0;32m----> 2\u001b[0;31m \u001b[0mfila\u001b[0m\u001b[0;34m.\u001b[0m\u001b[0minsere\u001b[0m\u001b[0;34m(\u001b[0m\u001b[0;36m1\u001b[0m\u001b[0;34m)\u001b[0m\u001b[0;34m\u001b[0m\u001b[0;34m\u001b[0m\u001b[0m\n\u001b[0m\u001b[1;32m      3\u001b[0m \u001b[0;34m\u001b[0m\u001b[0m\n\u001b[1;32m      4\u001b[0m \u001b[0;32massert\u001b[0m \u001b[0;34m[\u001b[0m\u001b[0;36m1\u001b[0m\u001b[0;34m]\u001b[0m \u001b[0;34m==\u001b[0m \u001b[0mfila\u001b[0m\u001b[0;34m.\u001b[0m\u001b[0mto_list\u001b[0m\u001b[0;34m(\u001b[0m\u001b[0;34m)\u001b[0m\u001b[0;34m\u001b[0m\u001b[0;34m\u001b[0m\u001b[0m\n\u001b[1;32m      5\u001b[0m \u001b[0;32massert\u001b[0m \u001b[0;36m1\u001b[0m \u001b[0;34m==\u001b[0m \u001b[0mfila\u001b[0m\u001b[0;34m.\u001b[0m\u001b[0mtamanho\u001b[0m\u001b[0;34m\u001b[0m\u001b[0;34m\u001b[0m\u001b[0m\n",
            "\u001b[0;31mAttributeError\u001b[0m: 'Fila' object has no attribute 'insere'"
          ]
        }
      ]
    },
    {
      "cell_type": "code",
      "metadata": {
        "id": "EO_w7vqUwZao",
        "colab_type": "code",
        "colab": {}
      },
      "source": [
        "fila.insere(2)\n",
        "\n",
        "assert [1, 2] == fila.to_list()\n",
        "assert 2 == fila.tamanho"
      ],
      "execution_count": 0,
      "outputs": []
    },
    {
      "cell_type": "code",
      "metadata": {
        "id": "Ie5kraPbwZas",
        "colab_type": "code",
        "colab": {}
      },
      "source": [
        "fila.insere(3)\n",
        "\n",
        "assert [1, 2, 3] == fila.to_list()\n",
        "assert 3 == fila.tamanho"
      ],
      "execution_count": 0,
      "outputs": []
    },
    {
      "cell_type": "code",
      "metadata": {
        "id": "JyqGUHj8wZau",
        "colab_type": "code",
        "colab": {}
      },
      "source": [
        "fila.remove()\n",
        "\n",
        "assert [2, 3] == fila.to_list()\n",
        "assert 2 == fila.tamanho"
      ],
      "execution_count": 0,
      "outputs": []
    },
    {
      "cell_type": "code",
      "metadata": {
        "id": "uYIWB_hnwZaw",
        "colab_type": "code",
        "colab": {}
      },
      "source": [
        "fila.remove()\n",
        "\n",
        "assert [3] == fila.to_list()\n",
        "assert 1 == fila.tamanho"
      ],
      "execution_count": 0,
      "outputs": []
    },
    {
      "cell_type": "code",
      "metadata": {
        "id": "Zmhp0cUPwZa0",
        "colab_type": "code",
        "colab": {}
      },
      "source": [
        "fila.remove()\n",
        "\n",
        "assert [] == fila.to_list()\n",
        "assert fila.testa_vazia()"
      ],
      "execution_count": 0,
      "outputs": []
    },
    {
      "cell_type": "markdown",
      "metadata": {
        "id": "nDm2WocZwZa2",
        "colab_type": "text"
      },
      "source": [
        "### Pilha\n",
        "\n",
        "Uma Pilha deve conter as operações `empilha(elemento)`, `desempilha`, `testa_vazia` e `to_list`.\n",
        "\n",
        "* `empilha(elemento)` deve inserir o elemento no topo da pilha\n",
        "* `desempilha` deve remover o elemento do topo da pilha\n",
        "* `testa_vazia` deve retornar True ou False indicando se a pilha está vazia\n",
        "* `to_list` deve retornar uma lista padrão Python que será usada nos testes implementados abaixo\n",
        "\n",
        "A Pilha deve ter o atributo `tamanho`, que indica quantos elementos a fila possui."
      ]
    },
    {
      "cell_type": "code",
      "metadata": {
        "id": "SgdsXHz4wZa2",
        "colab_type": "code",
        "colab": {}
      },
      "source": [
        "class Pilha:\n",
        "    pass\n",
        "    ## IMPLEMENTE"
      ],
      "execution_count": 0,
      "outputs": []
    },
    {
      "cell_type": "code",
      "metadata": {
        "id": "fVyJHXM_wZa4",
        "colab_type": "code",
        "outputId": "6fbe6c14-069c-4dbd-e104-d31260200cd0",
        "colab": {
          "base_uri": "https://localhost:8080/",
          "height": 229
        }
      },
      "source": [
        "pilha = Pilha()\n",
        "pilha.empilha(1)\n",
        "\n",
        "assert [1] == pilha.to_list()\n",
        "assert 1 == pilha.tamanho"
      ],
      "execution_count": 0,
      "outputs": [
        {
          "output_type": "error",
          "ename": "AttributeError",
          "evalue": "ignored",
          "traceback": [
            "\u001b[0;31m---------------------------------------------------------------------------\u001b[0m",
            "\u001b[0;31mAttributeError\u001b[0m                            Traceback (most recent call last)",
            "\u001b[0;32m<ipython-input-18-3fbe116dd5cf>\u001b[0m in \u001b[0;36m<module>\u001b[0;34m()\u001b[0m\n\u001b[1;32m      1\u001b[0m \u001b[0mpilha\u001b[0m \u001b[0;34m=\u001b[0m \u001b[0mPilha\u001b[0m\u001b[0;34m(\u001b[0m\u001b[0;34m)\u001b[0m\u001b[0;34m\u001b[0m\u001b[0;34m\u001b[0m\u001b[0m\n\u001b[0;32m----> 2\u001b[0;31m \u001b[0mpilha\u001b[0m\u001b[0;34m.\u001b[0m\u001b[0mempilha\u001b[0m\u001b[0;34m(\u001b[0m\u001b[0;36m1\u001b[0m\u001b[0;34m)\u001b[0m\u001b[0;34m\u001b[0m\u001b[0;34m\u001b[0m\u001b[0m\n\u001b[0m\u001b[1;32m      3\u001b[0m \u001b[0;34m\u001b[0m\u001b[0m\n\u001b[1;32m      4\u001b[0m \u001b[0;32massert\u001b[0m \u001b[0;34m[\u001b[0m\u001b[0;36m1\u001b[0m\u001b[0;34m]\u001b[0m \u001b[0;34m==\u001b[0m \u001b[0mpilha\u001b[0m\u001b[0;34m.\u001b[0m\u001b[0mto_list\u001b[0m\u001b[0;34m(\u001b[0m\u001b[0;34m)\u001b[0m\u001b[0;34m\u001b[0m\u001b[0;34m\u001b[0m\u001b[0m\n\u001b[1;32m      5\u001b[0m \u001b[0;32massert\u001b[0m \u001b[0;36m1\u001b[0m \u001b[0;34m==\u001b[0m \u001b[0mpilha\u001b[0m\u001b[0;34m.\u001b[0m\u001b[0mtamanho\u001b[0m\u001b[0;34m\u001b[0m\u001b[0;34m\u001b[0m\u001b[0m\n",
            "\u001b[0;31mAttributeError\u001b[0m: 'Pilha' object has no attribute 'empilha'"
          ]
        }
      ]
    },
    {
      "cell_type": "code",
      "metadata": {
        "id": "KPq0MqNRwZa5",
        "colab_type": "code",
        "colab": {}
      },
      "source": [
        "pilha.empilha(2)\n",
        "\n",
        "assert [1, 2] == pilha.to_list()\n",
        "assert 2 == pilha.tamanho"
      ],
      "execution_count": 0,
      "outputs": []
    },
    {
      "cell_type": "code",
      "metadata": {
        "id": "zTuPBKfGwZa7",
        "colab_type": "code",
        "colab": {}
      },
      "source": [
        "pilha.empilha(3)\n",
        "\n",
        "assert [1, 2, 3] == pilha.to_list()\n",
        "assert 3 == pilha.tamanho"
      ],
      "execution_count": 0,
      "outputs": []
    },
    {
      "cell_type": "code",
      "metadata": {
        "id": "5WgzwhIiwZa8",
        "colab_type": "code",
        "colab": {}
      },
      "source": [
        "assert 3 == pilha.desempilha()\n",
        "assert [1, 2] == pilha.to_list()\n",
        "assert 2 == pilha.tamanho"
      ],
      "execution_count": 0,
      "outputs": []
    },
    {
      "cell_type": "code",
      "metadata": {
        "id": "3pYdiuVfwZa-",
        "colab_type": "code",
        "colab": {}
      },
      "source": [
        "pilha.empilha(5)\n",
        "\n",
        "assert [1, 2, 5] == pilha.to_list()\n",
        "assert 3 == pilha.tamanho"
      ],
      "execution_count": 0,
      "outputs": []
    },
    {
      "cell_type": "code",
      "metadata": {
        "id": "kYheMCkPwZa_",
        "colab_type": "code",
        "colab": {}
      },
      "source": [
        "assert 5 == pilha.desempilha()\n",
        "assert [1, 2] == pilha.to_list()\n",
        "assert 2 == pilha.tamanho"
      ],
      "execution_count": 0,
      "outputs": []
    },
    {
      "cell_type": "code",
      "metadata": {
        "id": "vFf_MD3JwZbB",
        "colab_type": "code",
        "colab": {}
      },
      "source": [
        "assert 2 == pilha.desempilha()\n",
        "assert [1] == pilha.to_list()\n",
        "assert 1 == pilha.tamanho"
      ],
      "execution_count": 0,
      "outputs": []
    },
    {
      "cell_type": "code",
      "metadata": {
        "id": "vWpEBdpTwZbC",
        "colab_type": "code",
        "colab": {}
      },
      "source": [
        "pilha.empilha(9)\n",
        "\n",
        "assert [1, 9] == pilha.to_list()\n",
        "assert 2 == pilha.tamanho"
      ],
      "execution_count": 0,
      "outputs": []
    },
    {
      "cell_type": "markdown",
      "metadata": {
        "id": "2b_nCN2swZbE",
        "colab_type": "text"
      },
      "source": [
        "### Árvore\n",
        "\n",
        "Dado a classe `No` e os exemplos acima para `Fila` e `Pilha`, implemente o mesmo para uma árvore :)"
      ]
    },
    {
      "cell_type": "code",
      "metadata": {
        "id": "SPBI2444wZbF",
        "colab_type": "code",
        "colab": {}
      },
      "source": [
        ""
      ],
      "execution_count": 0,
      "outputs": []
    }
  ]
}